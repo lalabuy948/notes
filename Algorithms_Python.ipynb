{
 "cells": [
  {
   "cell_type": "markdown",
   "metadata": {},
   "source": [
    "# Algorithms (Python)"
   ]
  },
  {
   "cell_type": "code",
   "execution_count": 1,
   "metadata": {},
   "outputs": [],
   "source": [
    "import numpy as np\n",
    "\n",
    "def genArray():\n",
    "    \"\"\"Generate random array\"\"\"\n",
    "    return np.random.randint(0, 100, 10)\n",
    "\n",
    "def checkFunc(funcName):\n",
    "    \"\"\"Check function. Print input and out put.\"\"\"\n",
    "    i = genArray()\n",
    "    print(\"Input: \", i)\n",
    "    o = funcName(i)\n",
    "    print(\"Output:\", o)"
   ]
  },
  {
   "cell_type": "code",
   "execution_count": 2,
   "metadata": {},
   "outputs": [],
   "source": [
    "%config InlineBackend.figure_format=\"retina\""
   ]
  },
  {
   "cell_type": "markdown",
   "metadata": {},
   "source": [
    "## Sorting algorithms in python"
   ]
  },
  {
   "cell_type": "markdown",
   "metadata": {},
   "source": [
    "### Bubble sort\n",
    "\n",
    "для каждой пары индексов производится обмен, если элементы расположены не по порядку. \n",
    "\n",
    "Сложность алгоритма: $O(n^{2})$."
   ]
  },
  {
   "cell_type": "code",
   "execution_count": 3,
   "metadata": {},
   "outputs": [],
   "source": [
    "def bubbleSort(data):\n",
    "    for passnum in range(len(data)-1, 0, -1):\n",
    "    # -1 means that going backwards\n",
    "    # range(from, to, step)\n",
    "        for i in range(passnum):\n",
    "            if data[i] > data[i+1]:\n",
    "                temp = data[i]\n",
    "                data[i] = data[i+1]\n",
    "                data[i+1] = temp     \n",
    "    return data"
   ]
  },
  {
   "cell_type": "code",
   "execution_count": 4,
   "metadata": {},
   "outputs": [
    {
     "name": "stdout",
     "output_type": "stream",
     "text": [
      "Input:  [91 77 80 74 73 67 60 88 39 78]\n",
      "Output: [39 60 67 73 74 77 78 80 88 91]\n"
     ]
    }
   ],
   "source": [
    "checkFunc(bubbleSort)"
   ]
  },
  {
   "cell_type": "markdown",
   "metadata": {},
   "source": [
    "### Insertion sort\n",
    "\n",
    "определяем, где текущий элемент должен находиться в упорядоченном списке, и вставляем его туда. \n",
    "\n",
    "Сложность алгоритма: $O(n^{2})$."
   ]
  },
  {
   "cell_type": "code",
   "execution_count": 5,
   "metadata": {},
   "outputs": [],
   "source": [
    "def insertionSort(data):\n",
    "    for i in range(1, len(data)):\n",
    "        # range(from[1], to[data lengh])\n",
    "        elem = data[i]\n",
    "        j = i-1\n",
    "        while (j >= 0) and (elem < data[j]):\n",
    "                data[j+1] = data[j]\n",
    "                j -= 1\n",
    "        data[j+1] = elem\n",
    "    return data"
   ]
  },
  {
   "cell_type": "code",
   "execution_count": 6,
   "metadata": {},
   "outputs": [
    {
     "name": "stdout",
     "output_type": "stream",
     "text": [
      "Input:  [78 67  8 36 34  3 73 76 18 86]\n",
      "Output: [ 3  8 18 34 36 67 73 76 78 86]\n"
     ]
    }
   ],
   "source": [
    "checkFunc(insertionSort)"
   ]
  },
  {
   "cell_type": "markdown",
   "metadata": {},
   "source": [
    "### Merge sort \n",
    "\n",
    "выстраиваем первую и вторую половину списка отдельно, а затем объединяем упорядоченные списки. \n",
    "\n",
    "Сложность алгоритма: $O(n\\log n)$. Требуется $O(n)$ дополнительной памяти."
   ]
  },
  {
   "cell_type": "code",
   "execution_count": 7,
   "metadata": {},
   "outputs": [],
   "source": [
    "# TODO"
   ]
  },
  {
   "cell_type": "markdown",
   "metadata": {},
   "source": [
    "### Selection sort\n",
    "\n",
    "поиск наименьшего или наибольшего элемента и помещение его в начало или конец упорядоченного списка. \n",
    "\n",
    "Сложность алгоритма: $O(n^{2})$."
   ]
  },
  {
   "cell_type": "code",
   "execution_count": 8,
   "metadata": {},
   "outputs": [],
   "source": [
    "def selectionSort(data):\n",
    "    for i in range(len(data)):\n",
    "        minPosition = i\n",
    "        \n",
    "        for j in range(i+1, len(data)):\n",
    "            if data[minPosition] > data[j]:\n",
    "                minPosition = j \n",
    "                 \n",
    "        temp    = data[i]\n",
    "        data[i] = data[minPosition]\n",
    "        data[minPosition] = temp\n",
    "\n",
    "    return data"
   ]
  },
  {
   "cell_type": "code",
   "execution_count": 9,
   "metadata": {},
   "outputs": [
    {
     "name": "stdout",
     "output_type": "stream",
     "text": [
      "Input:  [ 3 26 27 33 96 43  2 37 16 34]\n",
      "Output: [ 2  3 16 26 27 33 34 37 43 96]\n"
     ]
    }
   ],
   "source": [
    "checkFunc(selectionSort)"
   ]
  },
  {
   "cell_type": "markdown",
   "metadata": {},
   "source": [
    "## Realization of the string reverse algorithm in python"
   ]
  },
  {
   "cell_type": "code",
   "execution_count": 10,
   "metadata": {},
   "outputs": [],
   "source": [
    "stroka = \"Hello World!\""
   ]
  },
  {
   "cell_type": "code",
   "execution_count": 11,
   "metadata": {},
   "outputs": [
    {
     "name": "stdout",
     "output_type": "stream",
     "text": [
      "Input  : Hello World! \n",
      "Output1: !dlroW olleH \n",
      "Output2: !dlroW olleH\n"
     ]
    }
   ],
   "source": [
    "def reverse(s):\n",
    "    \"\"\"Reverse string or list \n",
    "    which goes as parameter 's'\"\"\"\n",
    "    return s[::-1]\n",
    "\n",
    "def reverse2(data):\n",
    "    \"\"\"Creating new list and \n",
    "    put the elements in reversed order\n",
    "    then return new string\"\"\"\n",
    "    length = len(data)\n",
    "    new    = [None]*length\n",
    "\n",
    "    for item in data:\n",
    "        length = length - 1\n",
    "        new[length] = item\n",
    "    # create string back from list\n",
    "    return ''.join(new) \n",
    "\n",
    "print(\"Input  : {} \\nOutput1: {} \\nOutput2: {}\".format(stroka, reverse(stroka), reverse2(stroka)))"
   ]
  },
  {
   "cell_type": "markdown",
   "metadata": {},
   "source": [
    "## Fibonacci\n",
    "\n",
    "${\\displaystyle F_{n}=F_{n-1}+F_{n-2},}$"
   ]
  },
  {
   "cell_type": "code",
   "execution_count": 12,
   "metadata": {},
   "outputs": [
    {
     "name": "stdout",
     "output_type": "stream",
     "text": [
      "fibo: 55, fibo_r: 55, fibo_l: [1, 1, 2, 3, 5, 8, 13, 21, 34, 55].\n"
     ]
    }
   ],
   "source": [
    "def fibo(n):\n",
    "    \"\"\"Fibonacci function \n",
    "    which returns 'n's num\"\"\"\n",
    "    a,b = 1,1\n",
    "    for i in range(n-1):\n",
    "        a,b = b,a+b\n",
    "    return a\n",
    "\n",
    "def fibo_l(n):\n",
    "    \"\"\"Return the list of Fibonacci nums. \n",
    "       Argument n is the lenght of the list\"\"\"\n",
    "    nums = []\n",
    "    current, nxt = 0, 1\n",
    "    \n",
    "    for _ in range(0, n):\n",
    "        current, nxt = nxt, nxt + current \n",
    "        nums.append(current)\n",
    "    return nums\n",
    "\n",
    "def fibo_r(n):\n",
    "    \"\"\"Fibonacci using recursion\"\"\"\n",
    "    if n == 0: \n",
    "        return 0\n",
    "    elif n == 1: \n",
    "        return 1\n",
    "    elif n == 2: \n",
    "        return 1\n",
    "    else: \n",
    "        return fibo_r(n-1) + fibo_r(n-2)\n",
    "    \n",
    "print(\"fibo: {}, fibo_r: {}, fibo_l: {}.\".format(fibo(10), fibo_r(10), fibo_l(10)))"
   ]
  },
  {
   "cell_type": "markdown",
   "metadata": {},
   "source": [
    "## Fibonacci using recursion and memoization"
   ]
  },
  {
   "cell_type": "code",
   "execution_count": 13,
   "metadata": {},
   "outputs": [],
   "source": [
    "fibonacci_cache = {}\n",
    "\n",
    "def fibo_cached(n):\n",
    "\n",
    "    if n in fibonacci_cache:\n",
    "        return fibonacci_cache[n]\n",
    "    \n",
    "    if n == 0: \n",
    "        value = 0\n",
    "    elif n == 1: \n",
    "        value = 1\n",
    "    elif n == 2: \n",
    "        value = 1\n",
    "    else: \n",
    "        value = fibo_cached(n-1) + fibo_cached(n-2)\n",
    "    \n",
    "    fibonacci_cache[n] = value\n",
    "    return value"
   ]
  },
  {
   "cell_type": "markdown",
   "metadata": {},
   "source": [
    "## More advanced way"
   ]
  },
  {
   "cell_type": "code",
   "execution_count": 14,
   "metadata": {},
   "outputs": [],
   "source": [
    "from functools import lru_cache\n",
    "\n",
    "@lru_cache(maxsize=1000)\n",
    "def fibo_lruc(n):\n",
    "    \"\"\"Fibonacci using recursion and LRU cache\"\"\"\n",
    "    if n == 0: \n",
    "        return 0\n",
    "    elif n == 1: \n",
    "        return 1\n",
    "    elif n == 2: \n",
    "        return 1\n",
    "    else: \n",
    "        return fibo_lruc(n-1) + fibo_lruc(n-2)"
   ]
  },
  {
   "cell_type": "markdown",
   "metadata": {},
   "source": [
    "## Factorial"
   ]
  },
  {
   "cell_type": "code",
   "execution_count": 15,
   "metadata": {},
   "outputs": [
    {
     "name": "stdout",
     "output_type": "stream",
     "text": [
      "Factorial of 10 \n",
      "Without Recusion: 3628800 \n",
      "With Recursion: 3628800\n"
     ]
    }
   ],
   "source": [
    "def factorial(n):\n",
    "    \"\"\"Return the factorial of n\"\"\"\n",
    "    result = 1\n",
    "    for i in range(1, n+1):\n",
    "        result *= i\n",
    "    return result\n",
    "\n",
    "def factorialR(n):\n",
    "    \"\"\"Return the factorial of n\n",
    "       via recursion\"\"\"\n",
    "    if n < 1:\n",
    "        return 1\n",
    "    else:\n",
    "        return n*factorialR(n-1)\n",
    "    \n",
    "print(\"Factorial of 10 \\nWithout Recusion: {} \\nWith Recursion: {}\".format(factorial(10), factorialR(10)))"
   ]
  },
  {
   "cell_type": "code",
   "execution_count": null,
   "metadata": {},
   "outputs": [],
   "source": []
  }
 ],
 "metadata": {
  "kernelspec": {
   "display_name": "Python 3",
   "language": "python",
   "name": "python3"
  },
  "language_info": {
   "codemirror_mode": {
    "name": "ipython",
    "version": 3
   },
   "file_extension": ".py",
   "mimetype": "text/x-python",
   "name": "python",
   "nbconvert_exporter": "python",
   "pygments_lexer": "ipython3",
   "version": "3.6.5"
  }
 },
 "nbformat": 4,
 "nbformat_minor": 2
}
